{
 "cells": [
  {
   "cell_type": "code",
   "execution_count": null,
   "id": "8c2d353b",
   "metadata": {},
   "outputs": [],
   "source": [
    "from pathlib import Path\n",
    "import pandas as pd\n",
    "import os\n",
    "\n",
    "DATASET_FILE = Path(\"data\", \"pre_generated_data.parquet\")\n",
    "if not os.path.exists(DATASET_FILE):\n",
    "    raise FileNotFoundError(f\"File {DATASET_FILE} does not exist.\")\n",
    "df = pd.read_parquet(DATASET_FILE)\n",
    "print(f\"Loaded {len(df)} samples from {DATASET_FILE}.\")\n",
    "print(\"Number of biased features:\", df.shape[1] - 3)  # Exclude label column\n",
    "print(\"Unique biased labels: \", df.iloc[:, -2].value_counts().to_dict())\n",
    "print(\"Unique fair labels: \", df.iloc[:, -1].value_counts().to_dict())\n",
    "print(f\"Number of unique biased features: {len(set(df.iloc[:, 1:-2].values.flatten()))}, number of total biased features: {len(df.iloc[:, 1:-2].values.flatten())}\")\n",
    "print(\"Biggest biased feature value:\", df.iloc[:, 1:-2].values.flatten().max())\n",
    "print(\"Smallest biased feature value:\", df.iloc[:, 1:-2].values.flatten().min())\n",
    "print(df.head())"
   ]
  }
 ],
 "metadata": {
  "kernelspec": {
   "display_name": "fair-pfn",
   "language": "python",
   "name": "python3"
  },
  "language_info": {
   "codemirror_mode": {
    "name": "ipython",
    "version": 3
   },
   "file_extension": ".py",
   "mimetype": "text/x-python",
   "name": "python",
   "nbconvert_exporter": "python",
   "pygments_lexer": "ipython3",
   "version": "3.10.18"
  }
 },
 "nbformat": 4,
 "nbformat_minor": 5
}
